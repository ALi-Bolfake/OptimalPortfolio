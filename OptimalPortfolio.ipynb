{
  "nbformat": 4,
  "nbformat_minor": 0,
  "metadata": {
    "colab": {
      "private_outputs": true,
      "provenance": []
    },
    "kernelspec": {
      "name": "python3",
      "display_name": "Python 3"
    },
    "language_info": {
      "name": "python"
    }
  },
  "cells": [
    {
      "cell_type": "markdown",
      "source": [
        "#Three methods for selecting stocks/digital currencies for the optimal portfolio\n",
        "\n",
        "**1-  Risk Parity method:**\n",
        "\n",
        "https://www.investopedia.com/terms/r/risk-parity.asp\n",
        "\n",
        "**2-  Mean-Equal Weighting method:** https://colab.research.google.com/drive/1PgeKd7k5eQWlikINXGrWQUP5OevV0jOw#scrollTo=WP5KcCD92yqj&line=5&uniqifier=1\n",
        "\n",
        "**3-  Mont carlo method:**\n",
        "\n",
        "https://www.jstor.org/stable/3094492"
      ],
      "metadata": {
        "id": "WP5KcCD92yqj"
      }
    },
    {
      "cell_type": "code",
      "source": [
        "!pip install yfinance"
      ],
      "metadata": {
        "id": "0zqEyLAxxxx-"
      },
      "execution_count": null,
      "outputs": []
    },
    {
      "cell_type": "code",
      "source": [
        "!pip install klib"
      ],
      "metadata": {
        "id": "_3_FGv9qt1mz"
      },
      "execution_count": null,
      "outputs": []
    },
    {
      "cell_type": "code",
      "execution_count": null,
      "metadata": {
        "id": "crMr8hk5xiOU"
      },
      "outputs": [],
      "source": [
        "#Python Data Analysis imports\n",
        "import pandas as pd\n",
        "from pandas import Series,DataFrame\n",
        "import numpy as np\n",
        "\n",
        "#Visualisation imports\n",
        "import matplotlib.pyplot as plt\n",
        "import seaborn as sns\n",
        "sns.set_style('whitegrid')\n",
        "%matplotlib inline\n",
        "\n",
        "#To grab stock data\n",
        "from pandas_datareader import DataReader\n",
        "from datetime import datetime\n",
        "import yfinance as yf\n",
        "from tqdm.notebook import tqdm"
      ]
    },
    {
      "cell_type": "code",
      "source": [
        "#We're going to analyse stock info for Apple, Google, Microsoft, and Amazon\n",
        "currencies =['BTC-USD', 'ETH-USD', 'XRP-USD', 'LTC-USD',\n",
        "             'BCH-USD', 'ADA-USD', 'DOGE-USD', 'XLM-USD',\n",
        "             'EOS-USD', 'XMR-USD', 'DASH-USD', 'ZEC-USD',\n",
        "             'ETC-USD', 'XTZ-USD', 'ATOM1-USD', 'NEO-USD',\n",
        "             'WAVES-USD', 'LINK-USD', 'USDT-USD', 'BNB-USD',\n",
        "             'UNI3-USD', 'AAVE-USD', 'COMP-USD', 'YFI-USD',\n",
        "             'MKR-USD', 'SNX-USD', 'CRV-USD', 'SUSHI-USD',\n",
        "             '1INCH-USD', 'UMA-USD', 'REN-USD', 'BAL-USD',\n",
        "             'KSM-USD', 'DOT1-USD', 'XEM-USD', 'MIOTA-USD',\n",
        "             'TRX-USD', 'VET-USD', 'THETA-USD', 'ALGO-USD',\n",
        "             'CHZ-USD', 'ENJ-USD', 'MANA-USD', 'HOT-USD',\n",
        "             'SAND-USD', 'ZIL-USD', 'SRM-USD', 'FTT-USD',\n",
        "             'GRT-USD', 'SOL1-USD']\n",
        "\n",
        "#Setting the end date to today\n",
        "end = datetime.now()\n",
        "\n",
        "#Start date set to 1 year back\n",
        "start = datetime(end.year-1,end.month,end.day)\n",
        "\n",
        "data = yf.download(currencies, start=start, end=end, interval='1h')\n",
        "data = data.dropna(axis='columns')\n",
        "# Select the 'Close' prices\n",
        "close_prices = data['Adj Close']\n",
        "close_prices"
      ],
      "metadata": {
        "id": "xbaGDJUM2NAz"
      },
      "execution_count": null,
      "outputs": []
    },
    {
      "cell_type": "code",
      "source": [
        "fig, axes = plt.subplots(nrows=6, ncols=6, figsize=(40, 20))\n",
        "plt.subplots_adjust(hspace=0.5)  # Adjust vertical spacing between subplots\n",
        "\n",
        "# Loop through the cryptocurrencies and plot their price changes\n",
        "row = 0\n",
        "col = 0\n",
        "for i, (crypto, prices) in enumerate(close_prices.items()):\n",
        "    ax = axes[row, col]\n",
        "    ax.plot(prices)\n",
        "    ax.set_title(crypto)\n",
        "    ax.set_xlabel('Time')\n",
        "    ax.set_ylabel('Price')\n",
        "\n",
        "    col += 1\n",
        "    if col == 6:\n",
        "        col = 0\n",
        "        row += 1\n",
        "\n",
        "# Remove any empty subplots\n",
        "if col > 0:\n",
        "    for i in range(col, 3):\n",
        "        fig.delaxes(axes[row, i])\n",
        "\n",
        "# Display the plot\n",
        "plt.tight_layout()\n",
        "plt.show()"
      ],
      "metadata": {
        "id": "Xwc6VJzN0__1"
      },
      "execution_count": null,
      "outputs": []
    },
    {
      "cell_type": "markdown",
      "source": [
        "# 1-Risk Parity method\n",
        "\n",
        "\n",
        "The Risk Parity method is an investment strategy that aims to create an optimal portfolio by allocating assets based on their risk contributions rather than their market value. The goal is to balance the risk across different asset classes to achieve a more stable and diversified portfolio.\n",
        "\n",
        "Here's a step-by-step explanation of how the Risk Parity method works:\n",
        "\n",
        "1. Asset Selection: Identify a set of asset classes to include in your portfolio. This can include stocks, bonds, commodities, real estate, and other investment options.\n",
        "\n",
        "2. Risk Measurement: Calculate the risk of each asset class using a common risk metric such as volatility or standard deviation. These measures quantify the historical price fluctuations of each asset class.\n",
        "\n",
        "3. Weight Calculation: Determine the weight or allocation of each asset class in your portfolio. The Risk Parity method assigns weights based on the risk contribution of each asset class rather than their market value. The higher the risk contribution, the lower the weight assigned.\n",
        "\n",
        "4. Risk Contribution Calculation: Calculate the risk contribution of each asset class to the overall portfolio. This can be done by multiplying the weight of each asset class by its risk measure.\n",
        "\n",
        "5. Rebalance: Periodically reassess the risk contributions and adjust the portfolio weights accordingly. As asset prices and volatilities change over time, the portfolio may deviate from the desired risk allocation. Rebalancing ensures that the portfolio maintains the intended risk parity.\n",
        "\n",
        "6. Diversification Benefits: The Risk Parity method aims to achieve diversification benefits by allocating more weight to asset classes with lower correlations. By balancing the risk contributions, the portfolio becomes less dependent on any single asset class or market factor.\n",
        "\n",
        "It's worth noting that implementing the Risk Parity method requires access to accurate risk measures and historical data for the selected asset classes. Additionally, there are variations and enhancements to the basic Risk Parity approach, such as incorporating expected returns or adjusting for leverage constraints, which can be explored based on specific investment goals and constraints.\n",
        "\n",
        "As with any investment strategy, it's important to carefully consider your risk tolerance, investment horizon, and consult with a financial advisor or professional before making any investment decisions."
      ],
      "metadata": {
        "id": "gAlrmAN9Ulbw"
      }
    },
    {
      "cell_type": "code",
      "source": [
        "# Calculate returns\n",
        "returns = data['Close'].pct_change().dropna()\n",
        "\n",
        "# Calculate asset weights for Risk Parity\n",
        "cov_matrix = returns.cov()\n",
        "inv_cov_matrix = pd.DataFrame(np.linalg.pinv(cov_matrix.values), cov_matrix.columns, cov_matrix.index)\n",
        "weights = inv_cov_matrix.dot(pd.Series(1, index=inv_cov_matrix.columns)).values\n",
        "weights /= weights.sum()\n",
        "\n",
        "# Calculate risk contribution\n",
        "risk_contributions = cov_matrix @ weights\n",
        "weights_rp = risk_contributions / risk_contributions.sum()\n",
        "\n",
        "# Sort currencies based on weights for optimal portfolio\n",
        "sorted_currencies = weights_rp.sort_values(ascending=False)\n",
        "\n",
        "# Choose 3 currencies for long-term strategy\n",
        "long_term_currencies = sorted_currencies.head(3)\n",
        "print(\"Long-term strategy currencies:\")\n",
        "print(long_term_currencies)\n",
        "\n",
        "# Choose 3 currencies for medium-term strategy\n",
        "medium_term_currencies = sorted_currencies[3:6]\n",
        "print(\"Medium-term strategy currencies:\")\n",
        "print(medium_term_currencies)\n",
        "\n",
        "# Choose 2 currencies for short-term strategy\n",
        "short_term_currencies = sorted_currencies[6:8]\n",
        "print(\"Short-term strategy currencies:\")\n",
        "print(short_term_currencies)\n",
        "\n",
        "\n",
        "\n",
        "# Plot bar chart for ratio of currencies in strategies\n",
        "fig, ax = plt.subplots(figsize=(10, 6))\n",
        "\n",
        "sorted_currencies.plot.barh(ax=ax)\n",
        "ax.set_title(\"Currency Ratio in Strategies\")\n",
        "ax.set_xlabel(\"Ratio\")\n",
        "ax.set_ylabel(\"Currency\")\n",
        "\n",
        "plt.show()"
      ],
      "metadata": {
        "id": "Ea-rvqJ5Uk8q"
      },
      "execution_count": null,
      "outputs": []
    },
    {
      "cell_type": "markdown",
      "source": [
        "#2-Mean-Equal Weighting method\n",
        "\n",
        "\n",
        "The Mean-Equal Weighting method is a simple approach to constructing an optimal portfolio that assigns equal weights to all assets in the portfolio. It is a form of naive diversification, where each asset receives the same allocation regardless of its risk or return characteristics.\n",
        "\n",
        "Here's how the Mean-Equal Weighting method works:\n",
        "\n",
        "Asset Selection: Identify a set of assets that you want to include in your portfolio. These assets could be stocks, bonds, or any other investment instruments.\n",
        "\n",
        "Calculate Mean Returns: Calculate the average historical returns for each asset in your selected set. This can be done by taking the average of the past returns over a specific time period, such as one year.\n",
        "\n",
        "Assign Equal Weights: Assign equal weights to each asset in the portfolio. For example, if you have 10 assets in your portfolio, each asset would receive a weight of 1/10 or 10%.\n",
        "\n",
        "Portfolio Construction: Multiply the weight of each asset by its mean return to determine the contribution of each asset to the overall portfolio return. Sum up the contributions of all assets to calculate the expected portfolio return.\n",
        "\n",
        "Portfolio Evaluation: Assess the risk and return characteristics of the portfolio. You can calculate metrics such as the portfolio standard deviation or Sharpe ratio to evaluate the risk-adjusted performance.\n",
        "\n",
        "It's important to note that the Mean-Equal Weighting method does not take into account the specific risk and return characteristics of each asset. It assumes that all assets have equal potential and ignores any potential benefits of diversification. As a result, this method may not necessarily lead to an optimal portfolio in terms of risk-adjusted returns.\n",
        "\n",
        "While the Mean-Equal Weighting method is simple and easy to implement, more sophisticated portfolio construction techniques, such as Modern Portfolio Theory (MPT) or the Capital Asset Pricing Model (CAPM), consider the risk and return profiles of individual assets and aim to maximize portfolio efficiency. These approaches take into account factors such as correlation, covariance, and expected returns to construct portfolios that offer better risk-adjusted performance.\n",
        "\n",
        "Therefore, it's advisable to consider more advanced portfolio optimization techniques if you're looking to construct an optimal portfolio that considers the risk and return characteristics of individual assets."
      ],
      "metadata": {
        "id": "ssHAPqVFWqBg"
      }
    },
    {
      "cell_type": "code",
      "source": [
        "# Calculate expected returns and covariance matrix\n",
        "returns = data['Close'].pct_change().dropna()\n",
        "mean_returns = returns.mean()\n",
        "cov_matrix = returns.cov()\n",
        "\n",
        "# Perform Mean-Variance Optimization (MVO)\n",
        "num_portfolios = 10000\n",
        "results = np.zeros((4+len(currencies)-1, num_portfolios))\n",
        "weights = []\n",
        "\n",
        "for i in range(31):\n",
        "    # Generate random portfolio weights\n",
        "    w = np.random.random(31)\n",
        "    w /= np.sum(w)\n",
        "    weights.append(w)\n",
        "\n",
        "    # Calculate portfolio statistics\n",
        "    portfolio_return = np.sum(mean_returns * w)\n",
        "    portfolio_std_dev = np.sqrt(np.dot(w.T, np.dot(cov_matrix, w)))\n",
        "\n",
        "    # Save results\n",
        "    results[0, i] = portfolio_return\n",
        "    results[1, i] = portfolio_std_dev\n",
        "    results[2, i] = results[0, i] / results[1, i]  # Sharpe ratio\n",
        "    for j in range(31):\n",
        "        results[j+3, i] = w[j]\n",
        "\n",
        "# Convert results array to DataFrame\n",
        "columns = ['Returns', 'StdDev', 'Sharpe'] + currencies\n",
        "results_df = pd.DataFrame(results.T, columns=columns)\n",
        "\n",
        "# Choose currencies for optimal portfolio\n",
        "optimal_portfolio = results_df.iloc[results_df['Sharpe'].idxmax()]\n",
        "\n",
        "# Choose currencies for different strategies\n",
        "long_term_currencies = optimal_portfolio.nlargest(3).index\n",
        "medium_term_currencies = optimal_portfolio.nlargest(6).index[3:]\n",
        "short_term_currencies = optimal_portfolio.nlargest(8).index[6:]\n",
        "\n",
        "# Print selected currencies for different strategies\n",
        "print(\"Long-term strategy currencies:\", long_term_currencies)\n",
        "print(\"Medium-term strategy currencies:\", medium_term_currencies)\n",
        "print(\"Short-term strategy currencies:\", short_term_currencies)\n",
        "\n",
        "# Plot pie chart for currency ratios\n",
        "labels = ['Long-term', 'Medium-term', 'Short-term']\n",
        "ratios = [len(long_term_currencies), len(medium_term_currencies), len(short_term_currencies)]\n",
        "colors = ['#FF9999', '#66B2FF', '#99FF99']\n",
        "\n",
        "plt.figure(figsize=(8, 6))\n",
        "plt.pie(ratios, labels=labels, colors=colors, autopct='%1.1f%%', startangle=90)\n",
        "plt.axis('equal')\n",
        "plt.title('Currency Ratios in Strategies (Pie Chart)')\n",
        "plt.show()\n",
        "\n",
        "# Plot bar chart for currency ratios\n",
        "ratios = [len(long_term_currencies), len(medium_term_currencies), len(short_term_currencies)]\n",
        "plt.figure(figsize=(8, 6))\n",
        "plt.barh(labels, ratios, color=colors)\n",
        "plt.title('Currency Ratios in Strategies (Bar Chart)')\n",
        "plt.xlabel('Number of Currencies')\n",
        "plt.show()"
      ],
      "metadata": {
        "id": "qvPbj2pVW8Of"
      },
      "execution_count": null,
      "outputs": []
    },
    {
      "cell_type": "markdown",
      "source": [
        "#3-Mont Carlo Method"
      ],
      "metadata": {
        "id": "h2nZ579LovGg"
      }
    },
    {
      "cell_type": "code",
      "source": [
        "import klib\n",
        "#We're going to analyse stock info for Apple, Google, Microsoft, and Amazon\n",
        "currencies =['BTC-USD', 'ETH-USD', 'XRP-USD', 'LTC-USD',\n",
        "             'BCH-USD', 'ADA-USD', 'DOGE-USD', 'XLM-USD',\n",
        "             'EOS-USD', 'XMR-USD', 'DASH-USD', 'ZEC-USD',\n",
        "             'ETC-USD', 'XTZ-USD', 'ATOM1-USD', 'NEO-USD',\n",
        "             'WAVES-USD', 'LINK-USD', 'USDT-USD', 'BNB-USD',\n",
        "             'UNI3-USD', 'AAVE-USD', 'COMP-USD', 'YFI-USD',\n",
        "             'MKR-USD', 'SNX-USD', 'CRV-USD', 'SUSHI-USD',\n",
        "             '1INCH-USD', 'UMA-USD', 'REN-USD', 'BAL-USD',\n",
        "             'KSM-USD', 'DOT1-USD', 'XEM-USD', 'MIOTA-USD',\n",
        "             'TRX-USD', 'VET-USD', 'THETA-USD', 'ALGO-USD',\n",
        "             'CHZ-USD', 'ENJ-USD', 'MANA-USD', 'HOT-USD',\n",
        "             'SAND-USD', 'ZIL-USD', 'SRM-USD', 'FTT-USD',\n",
        "             'GRT-USD', 'SOL1-USD']\n",
        "\n",
        "#Setting the end date to today\n",
        "end = datetime.now()\n",
        "\n",
        "#Start date set to 1 year back\n",
        "start = datetime(end.year-1,end.month,end.day)\n",
        "\n",
        "data = yf.download(currencies, start=start, end=end, interval='1h')\n",
        "data = data.dropna(axis='columns')\n",
        "returns =data['Close'].pct_change().dropna()\n",
        "klib.dist_plot(returns)"
      ],
      "metadata": {
        "id": "3mVpqjNftxpp"
      },
      "execution_count": null,
      "outputs": []
    },
    {
      "cell_type": "code",
      "source": [
        "portfolio_weights = []\n",
        "portfolio_returns = []\n",
        "portfolio_risk = []\n",
        "portfolio_sharpe_ratio = []\n",
        "np.random.seed(0)\n",
        "numPortfolios = 5000\n",
        "risk_free_return = 0.061\n",
        "\n",
        "for portfolio in tqdm(range(numPortfolios)):\n",
        "\n",
        "  # Randomized weights for the portfolio\n",
        "  weights = np.random.random_sample(31)\n",
        "  weights = weights/np.sum(weights)\n",
        "  portfolio_weights.append(weights)\n",
        "\n",
        "  # Annual portfolio returns according to above weights\n",
        "  annual_return = np.sum(returns.mean() * weights) * 252\n",
        "  portfolio_returns.append(annual_return)\n",
        "\n",
        "  # Portfolio Risk Calculation\n",
        "  cov_matrix = returns.cov() * 252\n",
        "  portfolio_variance = np.dot(weights.T, np.dot(cov_matrix,weights))\n",
        "  portfolio_std_dev = np.sqrt(portfolio_variance)\n",
        "  portfolio_risk.append(portfolio_std_dev)\n",
        "\n",
        "  # Portfolio Sharpe Ratio Calculation\n",
        "  sharpe_ratio = (annual_return - risk_free_return)/portfolio_std_dev\n",
        "  portfolio_sharpe_ratio.append(sharpe_ratio)"
      ],
      "metadata": {
        "id": "sN8UgZdMuWw9"
      },
      "execution_count": null,
      "outputs": []
    },
    {
      "cell_type": "code",
      "source": [
        "metrics = [portfolio_returns,portfolio_risk,portfolio_sharpe_ratio,portfolio_weights]\n",
        "portfolio_df = pd.DataFrame(metrics).T\n",
        "portfolio_df.columns = ['Return','Risk','Sharpe Ratio','Associated Weights']\n",
        "portfolio_df"
      ],
      "metadata": {
        "id": "sqJAjUSPvtPP"
      },
      "execution_count": null,
      "outputs": []
    },
    {
      "cell_type": "code",
      "source": [
        "min_risk_portfolio = portfolio_df.iloc[portfolio_df.Risk.astype('float64').argmin()].to_frame().T\n",
        "\n",
        "# Set up figure to visualize the risk of each asset in the portfolio\n",
        "fig = plt.figure(figsize=(40, 10))\n",
        "ax = fig.add_axes([0,0,1,1])\n",
        "for NAMRCRYP,per_alloc in zip(returns.columns,min_risk_portfolio['Associated Weights'].values[0]):\n",
        "  ax.bar(NAMRCRYP, height=per_alloc, width=0.5, color='r')\n",
        "  ax.set_title('minimum risk portfolio',fontsize = 20)\n",
        "plt.show()"
      ],
      "metadata": {
        "id": "vnItbs6Awlid"
      },
      "execution_count": null,
      "outputs": []
    },
    {
      "cell_type": "code",
      "source": [
        "max_return_portfolio = portfolio_df.iloc[portfolio_df.Return.astype('float64').argmax()].to_frame().T\n",
        "fig = plt.figure(figsize=(40, 10))\n",
        "ax = fig.add_axes([0,0,1,1])\n",
        "for NAMRCRYP,per_alloc in zip(returns.columns,max_return_portfolio['Associated Weights'].values[0]):\n",
        "  ax.bar(NAMRCRYP, height=per_alloc, width=0.5, color='b')\n",
        "  ax.set_title('maximal Return Portfolio',fontsize = 20)\n",
        "plt.show()"
      ],
      "metadata": {
        "id": "1C94fU4d08nD"
      },
      "execution_count": null,
      "outputs": []
    },
    {
      "cell_type": "code",
      "source": [
        "max_sharpeRatio_portfolio = portfolio_df.iloc[portfolio_df['Sharpe Ratio'].astype('float64').argmax()].to_frame().T\n",
        "fig = plt.figure(figsize=(40, 10))\n",
        "ax = fig.add_axes([0,0,1,1])\n",
        "for NAMRCRYP,per_alloc in zip(returns.columns,max_sharpeRatio_portfolio['Associated Weights'].values[0]):\n",
        "  ax.bar(NAMRCRYP, height=per_alloc, width=0.5, color='g')\n",
        "  ax.set_title(' maximal Sharpe Ratio Portfolio',fontsize = 20)\n",
        "plt.show()"
      ],
      "metadata": {
        "id": "5RkTWPQE2WUT"
      },
      "execution_count": null,
      "outputs": []
    },
    {
      "cell_type": "code",
      "source": [
        "# Choose currencies for optimal portfolio\n",
        "optimal_portfolio =max_sharpeRatio_portfolio['Associated Weights'].sort_values(ascending=False)\n",
        "for NAMRCRYP,per_alloc in zip(returns.columns,optimal_portfolio.values[0]):\n",
        "  print()\n",
        "  print(NAMRCRYP + '  -------------  ' + str(per_alloc * 100))\n"
      ],
      "metadata": {
        "id": "QjC7WThd6kzu"
      },
      "execution_count": null,
      "outputs": []
    },
    {
      "cell_type": "code",
      "source": [
        "Crypt = []\n",
        "value=  []\n",
        "for NAMRCRYP,per_alloc in zip(returns.columns,optimal_portfolio.values[0]):\n",
        "  Crypt.append(NAMRCRYP)\n",
        "  value.append(per_alloc)\n",
        "data={\"Crypto\":Crypt,\n",
        "      \"value\":value}\n",
        "df = pd.DataFrame(data)\n",
        "df1=df.sort_values(by=['value'], ascending=False)\n",
        "# Choose 3 currencies for long-term strategy\n",
        "long_term_currencies = df1.head(3)\n",
        "print(\"Long-term strategy currencies:\")\n",
        "print(long_term_currencies)\n",
        "\n",
        "# Choose 3 currencies for medium-term strategy\n",
        "medium_term_currencies = df1[3:6]\n",
        "print(\"Medium-term strategy currencies:\")\n",
        "print(medium_term_currencies)\n",
        "\n",
        "# Choose 2 currencies for short-term strategy\n",
        "short_term_currencies = df1[6:8]\n",
        "print(\"Short-term strategy currencies:\")\n",
        "print(short_term_currencies)"
      ],
      "metadata": {
        "id": "s7bM5hDV7-1f"
      },
      "execution_count": null,
      "outputs": []
    }
  ]
}